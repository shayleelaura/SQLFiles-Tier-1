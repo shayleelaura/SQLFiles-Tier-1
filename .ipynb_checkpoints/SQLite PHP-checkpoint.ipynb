{
 "cells": [
  {
   "cell_type": "code",
   "execution_count": 3,
   "metadata": {},
   "outputs": [],
   "source": [
    "import sqlite3\n",
    "from sqlite3 import Error\n",
    "\n",
    " \n",
    "def create_connection(db_file):\n",
    "    \"\"\" create a database connection to the SQLite database\n",
    "        specified by the db_file\n",
    "    :param db_file: database file\n",
    "    :return: Connection object or None\n",
    "    \"\"\"\n",
    "    conn = None\n",
    "    try:\n",
    "        conn = sqlite3.connect(db_file)\n",
    "        print(sqlite3.version)\n",
    "    except Error as e:\n",
    "        print(e)\n",
    " \n",
    "    return conn\n"
   ]
  },
  {
   "cell_type": "code",
   "execution_count": 12,
   "metadata": {},
   "outputs": [],
   "source": [
    "def select_all_tasks(conn):\n",
    "    \"\"\"\n",
    "    Query all rows in the tasks table\n",
    "    :param conn: the Connection object\n",
    "    :return:\n",
    "    \"\"\"\n",
    "    cur = conn.cursor()\n",
    "    \n",
    "    query1 = 'SELECT * FROM FACILITIES'\n",
    "        \n",
    "    cur.execute(query1)\n",
    " \n",
    "    rows = cur.fetchall()\n",
    " \n",
    "    for row in rows:\n",
    "        print(row)\n"
   ]
  },
  {
   "cell_type": "code",
   "execution_count": 7,
   "metadata": {},
   "outputs": [
    {
     "name": "stdout",
     "output_type": "stream",
     "text": [
      "2.6.0\n",
      "2. Query all tasks\n",
      "(0, 'Tennis Court 1', 5, 25, 10000, 200)\n",
      "(1, 'Tennis Court 2', 5, 25, 8000, 200)\n",
      "(2, 'Badminton Court', 0, 15.5, 4000, 50)\n",
      "(3, 'Table Tennis', 0, 5, 320, 10)\n",
      "(4, 'Massage Room 1', 9.9, 80, 4000, 3000)\n",
      "(5, 'Massage Room 2', 9.9, 80, 4000, 3000)\n",
      "(6, 'Squash Court', 3.5, 17.5, 5000, 80)\n",
      "(7, 'Snooker Table', 0, 5, 450, 15)\n",
      "(8, 'Pool Table', 0, 5, 400, 15)\n"
     ]
    }
   ],
   "source": [
    "def main():\n",
    "    database = \"sqlite_db_pythonsqlite.db\"\n",
    " \n",
    "    # create a database connection\n",
    "    conn = create_connection(database)\n",
    "    with conn: \n",
    "        print(\"2. Query all tasks\")\n",
    "        select_all_tasks(conn)\n",
    " \n",
    " \n",
    "if __name__ == '__main__':\n",
    "    main()"
   ]
  },
  {
   "cell_type": "code",
   "execution_count": 8,
   "metadata": {},
   "outputs": [
    {
     "ename": "SyntaxError",
     "evalue": "EOL while scanning string literal (<ipython-input-8-cf29c644e9f8>, line 2)",
     "output_type": "error",
     "traceback": [
      "\u001b[0;36m  File \u001b[0;32m\"<ipython-input-8-cf29c644e9f8>\"\u001b[0;36m, line \u001b[0;32m2\u001b[0m\n\u001b[0;31m    df = pd.read_sql_query('SELECT * FROM Facilities INNER JOIN Bookings on Facilities.facid = Bookings.facid LIMIT 10, engine)\u001b[0m\n\u001b[0m                                                                                                                               ^\u001b[0m\n\u001b[0;31mSyntaxError\u001b[0m\u001b[0;31m:\u001b[0m EOL while scanning string literal\n"
     ]
    }
   ],
   "source": []
  },
  {
   "cell_type": "code",
   "execution_count": null,
   "metadata": {},
   "outputs": [],
   "source": []
  }
 ],
 "metadata": {
  "kernelspec": {
   "display_name": "Python 3",
   "language": "python",
   "name": "python3"
  },
  "language_info": {
   "codemirror_mode": {
    "name": "ipython",
    "version": 3
   },
   "file_extension": ".py",
   "mimetype": "text/x-python",
   "name": "python",
   "nbconvert_exporter": "python",
   "pygments_lexer": "ipython3",
   "version": "3.8.5"
  }
 },
 "nbformat": 4,
 "nbformat_minor": 4
}
